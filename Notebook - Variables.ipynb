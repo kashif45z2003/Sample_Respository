{
 "cells": [
  {
   "cell_type": "markdown",
   "id": "ad3f54c8",
   "metadata": {},
   "source": [
    "# Introduction to Variables\n",
    "\n",
    "In Python, a variable is like a container that stores information. You can think of it as a labeled box where you can put things like numbers, text, or lists, and then use that label to access the contents later.\n"
   ]
  },
  {
   "cell_type": "markdown",
   "id": "b5b858a0",
   "metadata": {},
   "source": [
    "# Creating a Variable"
   ]
  },
  {
   "cell_type": "code",
   "execution_count": 5,
   "id": "928b8cb8",
   "metadata": {},
   "outputs": [
    {
     "name": "stdout",
     "output_type": "stream",
     "text": [
      "25\n"
     ]
    }
   ],
   "source": [
    "# Example: Storing a number in a variable\n",
    "age = 25\n",
    "print(age)"
   ]
  },
  {
   "cell_type": "markdown",
   "id": "5ec00fb4",
   "metadata": {},
   "source": [
    "*Explanation:* \n",
    "Here, we created a variable called `age` and stored the number `25` in it. When we `print(age)`, it shows the value `25`.\n"
   ]
  },
  {
   "cell_type": "markdown",
   "id": "202a0a20",
   "metadata": {},
   "source": [
    "# Variables with Different Data Types"
   ]
  },
  {
   "cell_type": "code",
   "execution_count": 3,
   "id": "6e2f1bf8",
   "metadata": {},
   "outputs": [
    {
     "name": "stdout",
     "output_type": "stream",
     "text": [
      "10\n",
      "0.75\n",
      "Apple\n",
      "True\n",
      "['Apple', 'Banana', 'Cherry']\n",
      "{'name': 'Apple', 'color': 'Red', 'price': 0.75}\n"
     ]
    }
   ],
   "source": [
    "# Integer\n",
    "number_of_apples = 10\n",
    "\n",
    "# Float\n",
    "price_per_apple = 0.75\n",
    "\n",
    "# String\n",
    "fruit_name = \"Apple\"\n",
    "\n",
    "# Boolean\n",
    "is_ripe = True\n",
    "\n",
    "# List\n",
    "fruits = [\"Apple\", \"Banana\", \"Cherry\"]\n",
    "\n",
    "# Dictionary\n",
    "fruit_details = {\"name\": \"Apple\", \"color\": \"Red\", \"price\": 0.75}\n",
    "\n",
    "print(number_of_apples)\n",
    "print(price_per_apple)\n",
    "print(fruit_name)\n",
    "print(is_ripe)\n",
    "print(fruits)\n",
    "print(fruit_details)\n"
   ]
  },
  {
   "cell_type": "markdown",
   "id": "ef4502e0",
   "metadata": {},
   "source": [
    "*Explanation:*\n",
    "- `number_of_apples`: Stores a whole number (integer).\n",
    "- `price_per_apple`: Stores a number with a decimal point (float).\n",
    "- `fruit_name`: Stores a piece of text (string).\n",
    "- `is_ripe`: Stores a `True` or `False` value (boolean).\n",
    "- `fruits`: Stores a list of items.\n",
    "- `fruit_details`: Stores information in key-value pairs using a dictionary.\n"
   ]
  },
  {
   "cell_type": "markdown",
   "id": "3a74e145",
   "metadata": {},
   "source": [
    "# Updating and Using Variables"
   ]
  },
  {
   "cell_type": "code",
   "execution_count": 4,
   "id": "47df94b6",
   "metadata": {},
   "outputs": [
    {
     "name": "stdout",
     "output_type": "stream",
     "text": [
      "Updated number of apples: 15\n",
      "Total cost of apples: 11.25\n"
     ]
    }
   ],
   "source": [
    "# Let's update the variable\n",
    "number_of_apples = 15\n",
    "\n",
    "# Use variables in operations\n",
    "total_cost = number_of_apples * price_per_apple\n",
    "\n",
    "print(\"Updated number of apples:\", number_of_apples)\n",
    "print(\"Total cost of apples:\", total_cost)\n"
   ]
  },
  {
   "cell_type": "markdown",
   "id": "f5cc5095",
   "metadata": {},
   "source": [
    "*Explanation:*\n",
    "You can update the value of a variable at any time. Here, we changed `number_of_apples` to `15`. Then we used the variables `number_of_apples` and `price_per_apple` to calculate `total_cost`.\n"
   ]
  },
  {
   "cell_type": "markdown",
   "id": "d59980b8",
   "metadata": {},
   "source": [
    "# Addition of Variables"
   ]
  },
  {
   "cell_type": "code",
   "execution_count": 6,
   "id": "9c7657e3",
   "metadata": {},
   "outputs": [
    {
     "name": "stdout",
     "output_type": "stream",
     "text": [
      "Sum: 15\n"
     ]
    }
   ],
   "source": [
    "# Example: Adding two numbers\n",
    "a = 10\n",
    "b = 5\n",
    "sum_result = a + b\n",
    "\n",
    "print(\"Sum:\", sum_result)  # Output will be 15\n"
   ]
  },
  {
   "cell_type": "markdown",
   "id": "a5495a3b",
   "metadata": {},
   "source": [
    "# Subtraction of Variables"
   ]
  },
  {
   "cell_type": "code",
   "execution_count": 7,
   "id": "478fb90b",
   "metadata": {},
   "outputs": [
    {
     "name": "stdout",
     "output_type": "stream",
     "text": [
      "Difference: 12\n"
     ]
    }
   ],
   "source": [
    "# Example: Subtracting one number from another\n",
    "x = 20\n",
    "y = 8\n",
    "difference = x - y\n",
    "\n",
    "print(\"Difference:\", difference)  # Output will be 12\n"
   ]
  },
  {
   "cell_type": "markdown",
   "id": "4ca0d89a",
   "metadata": {},
   "source": [
    "# Division of Variables"
   ]
  },
  {
   "cell_type": "code",
   "execution_count": 8,
   "id": "fc53ef8b",
   "metadata": {},
   "outputs": [
    {
     "name": "stdout",
     "output_type": "stream",
     "text": [
      "Division Result: 5.0\n"
     ]
    }
   ],
   "source": [
    "# Example: Dividing one number by another\n",
    "num1 = 25\n",
    "num2 = 5\n",
    "division_result = num1 / num2\n",
    "\n",
    "print(\"Division Result:\", division_result)  # Output will be 5.0\n"
   ]
  },
  {
   "cell_type": "markdown",
   "id": "1ea27eca",
   "metadata": {},
   "source": [
    "# Coding Problems\n",
    "\n",
    "Now it’s your turn! Try creating and using variables on your own.\n"
   ]
  },
  {
   "cell_type": "markdown",
   "id": "fd57fbe5",
   "metadata": {},
   "source": [
    "# Problem 1"
   ]
  },
  {
   "cell_type": "markdown",
   "id": "ac4a8846",
   "metadata": {},
   "source": [
    "**Problem 1:** Create a variable called `my_name` and store your name as a string in it. Then, print the value of `my_name`.\n"
   ]
  },
  {
   "cell_type": "code",
   "execution_count": null,
   "id": "6f1d4d53",
   "metadata": {},
   "outputs": [],
   "source": [
    "# Write your code here\n"
   ]
  },
  {
   "cell_type": "markdown",
   "id": "7f8c1be0",
   "metadata": {},
   "source": [
    "# Problem 2: Simple Subtraction"
   ]
  },
  {
   "cell_type": "markdown",
   "id": "4e702644",
   "metadata": {},
   "source": [
    "**Problem:** Create two variables called initial_value and decrement. Assign them the values 100 and 30. Subtract decrement from initial_value and print the result."
   ]
  },
  {
   "cell_type": "code",
   "execution_count": null,
   "id": "32a8468f",
   "metadata": {},
   "outputs": [],
   "source": [
    "# Write your code here\n"
   ]
  },
  {
   "cell_type": "markdown",
   "id": "ba2ef135",
   "metadata": {},
   "source": [
    "# Problem 3: Simple Addition"
   ]
  },
  {
   "cell_type": "markdown",
   "id": "90000f31",
   "metadata": {},
   "source": [
    "Problem: Create two variables called first_number and second_number. Assign them the values 8 and 12. Add these two variables and print the result."
   ]
  },
  {
   "cell_type": "code",
   "execution_count": 9,
   "id": "0c934e71",
   "metadata": {},
   "outputs": [],
   "source": [
    "# Write your code here\n"
   ]
  },
  {
   "cell_type": "code",
   "execution_count": null,
   "id": "7063980c",
   "metadata": {},
   "outputs": [],
   "source": []
  }
 ],
 "metadata": {
  "kernelspec": {
   "display_name": "Python 3 (ipykernel)",
   "language": "python",
   "name": "python3"
  },
  "language_info": {
   "codemirror_mode": {
    "name": "ipython",
    "version": 3
   },
   "file_extension": ".py",
   "mimetype": "text/x-python",
   "name": "python",
   "nbconvert_exporter": "python",
   "pygments_lexer": "ipython3",
   "version": "3.9.12"
  }
 },
 "nbformat": 4,
 "nbformat_minor": 5
}
